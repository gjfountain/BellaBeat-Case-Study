{
 "cells": [
  {
   "cell_type": "markdown",
   "id": "bf5485a8",
   "metadata": {
    "papermill": {
     "duration": 0.011581,
     "end_time": "2024-10-16T16:15:33.922503",
     "exception": false,
     "start_time": "2024-10-16T16:15:33.910922",
     "status": "completed"
    },
    "tags": []
   },
   "source": [
    "# Summary\n",
    "\n",
    "Bellabeat, is a high-tech manufacturer of health-focused products for women. Bellabeat is a successful small company, but they have the potential to become a larger player in the global smart device market. Urška Sršen, cofounder and Chief Creative Officer of Bellabeat, believes that analyzing smart device fitness data could help unlock new growth opportunities for the company.\n",
    "\n",
    "# Phase 1: Ask\n",
    "### Questions for Analysis\n",
    "\n",
    "1. What are some trends in smart device usage?\n",
    "2. How could these trends apply to Bellabeat customers?\n",
    "3. How could these trends help influence Bellabeat marketing strategy?\n",
    "\n",
    "### The Business Task\n",
    "\n",
    "Identify trends in how consumers use other smart devices to apply insights to BellaBeat's market strategy.\n",
    "\n",
    "# Phase 2: Prepare\n",
    "\n",
    "### What Data are we using?\n",
    "\n",
    "The data is a public dataset \"Fitbit Fitness Tracker Data\" made available through Mobious, and found on Kaggle. Thirty eligible Fitbit users consented to the submission of personal tracker data, including minute-level output for physical activity, heart rate, and sleep monitoring. It includes information about daily activity, steps, and heart rate that can be used to explore users’ habits. \n",
    "\n",
    "The data was broken down into csv files which were grouped into 2 folders denoting 2 separate 31 day windows. The following files were omitted:\n",
    "\n",
    "  dailycalories, dailyintensities, dailysteps, dailysleep; for only having data within one of the 31 day timeframes.\n",
    "  minutecalories,minuteintensitiesminuteMETS, and minutesteps since the data is also captured in the hourly files.\n",
    "\n",
    "This leaves us: daily_activity, hourly_calories, hourly_intensities, hourly_steps, weight, and heartrate_seconds\n",
    "\n",
    "# Phase 3: Process\n",
    "\n",
    "We'll start by installing and loading the packages we'll use\n"
   ]
  },
  {
   "cell_type": "code",
   "execution_count": 1,
   "id": "7f65d212",
   "metadata": {
    "_kg_hide-output": true,
    "execution": {
     "iopub.execute_input": "2024-10-16T16:15:33.948941Z",
     "iopub.status.busy": "2024-10-16T16:15:33.946216Z",
     "iopub.status.idle": "2024-10-16T16:15:35.723072Z",
     "shell.execute_reply": "2024-10-16T16:15:35.721193Z"
    },
    "papermill": {
     "duration": 1.792203,
     "end_time": "2024-10-16T16:15:35.725593",
     "exception": false,
     "start_time": "2024-10-16T16:15:33.933390",
     "status": "completed"
    },
    "tags": []
   },
   "outputs": [
    {
     "name": "stderr",
     "output_type": "stream",
     "text": [
      "── \u001b[1mAttaching core tidyverse packages\u001b[22m ──────────────────────── tidyverse 2.0.0 ──\n",
      "\u001b[32m✔\u001b[39m \u001b[34mdplyr    \u001b[39m 1.1.4     \u001b[32m✔\u001b[39m \u001b[34mreadr    \u001b[39m 2.1.5\n",
      "\u001b[32m✔\u001b[39m \u001b[34mforcats  \u001b[39m 1.0.0     \u001b[32m✔\u001b[39m \u001b[34mstringr  \u001b[39m 1.5.1\n",
      "\u001b[32m✔\u001b[39m \u001b[34mggplot2  \u001b[39m 3.5.1     \u001b[32m✔\u001b[39m \u001b[34mtibble   \u001b[39m 3.2.1\n",
      "\u001b[32m✔\u001b[39m \u001b[34mlubridate\u001b[39m 1.9.3     \u001b[32m✔\u001b[39m \u001b[34mtidyr    \u001b[39m 1.3.1\n",
      "\u001b[32m✔\u001b[39m \u001b[34mpurrr    \u001b[39m 1.0.2     \n"
     ]
    },
    {
     "name": "stderr",
     "output_type": "stream",
     "text": [
      "── \u001b[1mConflicts\u001b[22m ────────────────────────────────────────── tidyverse_conflicts() ──\n",
      "\u001b[31m✖\u001b[39m \u001b[34mdplyr\u001b[39m::\u001b[32mfilter()\u001b[39m masks \u001b[34mstats\u001b[39m::filter()\n",
      "\u001b[31m✖\u001b[39m \u001b[34mdplyr\u001b[39m::\u001b[32mlag()\u001b[39m    masks \u001b[34mstats\u001b[39m::lag()\n",
      "\u001b[36mℹ\u001b[39m Use the conflicted package (\u001b[3m\u001b[34m<http://conflicted.r-lib.org/>\u001b[39m\u001b[23m) to force all conflicts to become errors\n"
     ]
    },
    {
     "name": "stderr",
     "output_type": "stream",
     "text": [
      "here() starts at /kaggle/working\n",
      "\n"
     ]
    },
    {
     "name": "stderr",
     "output_type": "stream",
     "text": [
      "\n",
      "Attaching package: ‘janitor’\n",
      "\n",
      "\n"
     ]
    },
    {
     "name": "stderr",
     "output_type": "stream",
     "text": [
      "The following objects are masked from ‘package:stats’:\n",
      "\n",
      "    chisq.test, fisher.test\n",
      "\n",
      "\n"
     ]
    },
    {
     "name": "stderr",
     "output_type": "stream",
     "text": [
      "------------------------------------------------------------------------------\n",
      "\n"
     ]
    },
    {
     "name": "stderr",
     "output_type": "stream",
     "text": [
      "You have loaded plyr after dplyr - this is likely to cause problems.\n",
      "If you need functions from both plyr and dplyr, please load plyr first, then dplyr:\n",
      "library(plyr); library(dplyr)\n",
      "\n"
     ]
    },
    {
     "name": "stderr",
     "output_type": "stream",
     "text": [
      "------------------------------------------------------------------------------\n",
      "\n"
     ]
    },
    {
     "name": "stderr",
     "output_type": "stream",
     "text": [
      "\n",
      "Attaching package: ‘plyr’\n",
      "\n",
      "\n"
     ]
    },
    {
     "name": "stderr",
     "output_type": "stream",
     "text": [
      "The following object is masked from ‘package:here’:\n",
      "\n",
      "    here\n",
      "\n",
      "\n"
     ]
    },
    {
     "name": "stderr",
     "output_type": "stream",
     "text": [
      "The following objects are masked from ‘package:dplyr’:\n",
      "\n",
      "    arrange, count, desc, failwith, id, mutate, rename, summarise,\n",
      "    summarize\n",
      "\n",
      "\n"
     ]
    },
    {
     "name": "stderr",
     "output_type": "stream",
     "text": [
      "The following object is masked from ‘package:purrr’:\n",
      "\n",
      "    compact\n",
      "\n",
      "\n"
     ]
    }
   ],
   "source": [
    "library(\"tidyverse\")\n",
    "library(\"here\")\n",
    "library(\"skimr\")\n",
    "library(\"janitor\")\n",
    "library(\"plyr\")\n",
    "library(\"dplyr\")"
   ]
  },
  {
   "cell_type": "markdown",
   "id": "5da6b579",
   "metadata": {
    "papermill": {
     "duration": 0.011512,
     "end_time": "2024-10-16T16:15:35.749363",
     "exception": false,
     "start_time": "2024-10-16T16:15:35.737851",
     "status": "completed"
    },
    "tags": []
   },
   "source": [
    "### Importing Datasets\n",
    "\n",
    "The data was renamed to _1 for the first timeframeand _2 for the second timeframe to be able to later combine them. "
   ]
  },
  {
   "cell_type": "code",
   "execution_count": 2,
   "id": "e48ef93d",
   "metadata": {
    "execution": {
     "iopub.execute_input": "2024-10-16T16:15:35.819577Z",
     "iopub.status.busy": "2024-10-16T16:15:35.774464Z",
     "iopub.status.idle": "2024-10-16T16:15:48.076208Z",
     "shell.execute_reply": "2024-10-16T16:15:48.074230Z"
    },
    "papermill": {
     "duration": 12.319187,
     "end_time": "2024-10-16T16:15:48.079966",
     "exception": false,
     "start_time": "2024-10-16T16:15:35.760779",
     "status": "completed"
    },
    "tags": []
   },
   "outputs": [],
   "source": [
    "daily_activity_1 <- read.csv(\"/kaggle/input/fitbit-dataset/dailyActivity_merged_1.csv\")\n",
    "daily_activity_2 <- read.csv(\"/kaggle/input/fitbit-dataset/dailyActivity_merged_2.csv\")\n",
    "\n",
    "hourly_calories_1 <-read.csv(\"/kaggle/input/fitbit-dataset/hourlyCalories_merged_1.csv\")\n",
    "hourly_calories_2 <-read.csv(\"/kaggle/input/fitbit-dataset/hourlyCalories_merged_2.csv\")\n",
    "\n",
    "hourly_intensities_1 <- read.csv(\"/kaggle/input/fitbit-dataset/hourlyIntensities_merged_1.csv\")\n",
    "hourly_intensities_2 <- read.csv(\"/kaggle/input/fitbit-dataset/hourlyIntensities_merged_2.csv\")\n",
    "\n",
    "hourly_steps_1 <- read.csv(\"/kaggle/input/fitbit-dataset/hourlySteps_merged_1.csv\")\n",
    "hourly_steps_2 <- read.csv(\"/kaggle/input/fitbit-dataset/hourlySteps_merged_2.csv\")\n",
    "\n",
    "weight_1 <- read.csv(\"/kaggle/input/fitbit-dataset/weightLogInfo_merged_1.csv\")\n",
    "weight_2 <- read.csv(\"/kaggle/input/fitbit-dataset/weightLogInfo_merged_2.csv\")\n",
    "\n",
    "minute_sleep_1 <- read.csv(\"/kaggle/input/fitbit-dataset/minuteSleep_merged_1.csv\")\n",
    "minute_sleep_2 <- read.csv(\"/kaggle/input/fitbit-dataset/minuteSleep_merged_2.csv\")\n",
    "\n",
    "seconds_heartrate_1<-read.csv(\"/kaggle/input/fitbit-dataset/heartrate_seconds_merged_1.csv\")\n",
    "seconds_heartrate_2<-read.csv(\"/kaggle/input/fitbit-dataset/heartrate_seconds_merged_2.csv\")"
   ]
  },
  {
   "cell_type": "markdown",
   "id": "53523975",
   "metadata": {
    "papermill": {
     "duration": 0.011392,
     "end_time": "2024-10-16T16:15:48.103413",
     "exception": false,
     "start_time": "2024-10-16T16:15:48.092021",
     "status": "completed"
    },
    "tags": []
   },
   "source": [
    "### Fixing and Formatting\n",
    "\n",
    "There is an overlap in data recorded between the 2 months where some users have\n",
    "duplicate data on April 12th. We'll remove those lines from the 1st period before\n",
    "merging our data"
   ]
  },
  {
   "cell_type": "code",
   "execution_count": 3,
   "id": "30f38383",
   "metadata": {
    "execution": {
     "iopub.execute_input": "2024-10-16T16:15:48.129822Z",
     "iopub.status.busy": "2024-10-16T16:15:48.128194Z",
     "iopub.status.idle": "2024-10-16T16:15:48.151808Z",
     "shell.execute_reply": "2024-10-16T16:15:48.150013Z"
    },
    "papermill": {
     "duration": 0.04106,
     "end_time": "2024-10-16T16:15:48.155754",
     "exception": false,
     "start_time": "2024-10-16T16:15:48.114694",
     "status": "completed"
    },
    "tags": []
   },
   "outputs": [],
   "source": [
    "daily_activity_1 <- filter(daily_activity_1,!ActivityDate==\"4/12/2016\")"
   ]
  },
  {
   "cell_type": "markdown",
   "id": "99564fb6",
   "metadata": {
    "papermill": {
     "duration": 0.01201,
     "end_time": "2024-10-16T16:15:48.184403",
     "exception": false,
     "start_time": "2024-10-16T16:15:48.172393",
     "status": "completed"
    },
    "tags": []
   },
   "source": [
    "The other dateframes are based off date and time and will have to be broken down into\n",
    "separate \"Date\" and \"Time\" columns to remove the overlapping data"
   ]
  },
  {
   "cell_type": "code",
   "execution_count": 4,
   "id": "25e0dbec",
   "metadata": {
    "execution": {
     "iopub.execute_input": "2024-10-16T16:15:48.213594Z",
     "iopub.status.busy": "2024-10-16T16:15:48.210867Z",
     "iopub.status.idle": "2024-10-16T16:15:48.262716Z",
     "shell.execute_reply": "2024-10-16T16:15:48.260840Z"
    },
    "papermill": {
     "duration": 0.069659,
     "end_time": "2024-10-16T16:15:48.265818",
     "exception": false,
     "start_time": "2024-10-16T16:15:48.196159",
     "status": "completed"
    },
    "tags": []
   },
   "outputs": [],
   "source": [
    "hourly_calories_1[c(\"date\", \"time\")] <- str_split_fixed(hourly_calories_1$ActivityHour, \" \" , 2) \n",
    "hourly_calories_1 <- filter(hourly_calories_1,!date== \"4/12/2016\")"
   ]
  },
  {
   "cell_type": "markdown",
   "id": "a77a353f",
   "metadata": {
    "papermill": {
     "duration": 0.012526,
     "end_time": "2024-10-16T16:15:48.295991",
     "exception": false,
     "start_time": "2024-10-16T16:15:48.283465",
     "status": "completed"
    },
    "tags": []
   },
   "source": [
    "Then reformatted back to the columns of the original dataframes"
   ]
  },
  {
   "cell_type": "code",
   "execution_count": 5,
   "id": "9bb838db",
   "metadata": {
    "execution": {
     "iopub.execute_input": "2024-10-16T16:15:48.324785Z",
     "iopub.status.busy": "2024-10-16T16:15:48.322115Z",
     "iopub.status.idle": "2024-10-16T16:15:48.343284Z",
     "shell.execute_reply": "2024-10-16T16:15:48.340312Z"
    },
    "papermill": {
     "duration": 0.039318,
     "end_time": "2024-10-16T16:15:48.347033",
     "exception": false,
     "start_time": "2024-10-16T16:15:48.307715",
     "status": "completed"
    },
    "tags": []
   },
   "outputs": [],
   "source": [
    "hourly_calories_1 <- hourly_calories_1[c(\"Id\",\"ActivityHour\",\"Calories\")]"
   ]
  },
  {
   "cell_type": "markdown",
   "id": "f652855d",
   "metadata": {
    "papermill": {
     "duration": 0.011654,
     "end_time": "2024-10-16T16:15:48.370492",
     "exception": false,
     "start_time": "2024-10-16T16:15:48.358838",
     "status": "completed"
    },
    "tags": []
   },
   "source": [
    "Now let's do that for the remaining dataframes"
   ]
  },
  {
   "cell_type": "code",
   "execution_count": 6,
   "id": "bde0e3a1",
   "metadata": {
    "execution": {
     "iopub.execute_input": "2024-10-16T16:15:48.399012Z",
     "iopub.status.busy": "2024-10-16T16:15:48.396328Z",
     "iopub.status.idle": "2024-10-16T16:15:51.373301Z",
     "shell.execute_reply": "2024-10-16T16:15:51.371199Z"
    },
    "papermill": {
     "duration": 2.993984,
     "end_time": "2024-10-16T16:15:51.375969",
     "exception": false,
     "start_time": "2024-10-16T16:15:48.381985",
     "status": "completed"
    },
    "tags": []
   },
   "outputs": [],
   "source": [
    "hourly_intensities_1[c(\"date\", \"time\")] <- str_split_fixed(hourly_intensities_1$ActivityHour, \" \" , 2) \n",
    "hourly_intensities_1 <- filter(hourly_intensities_1,!date== \"4/12/2016\")\n",
    "hourly_intensities_1 <- hourly_intensities_1[c(\"Id\",\"ActivityHour\",\"TotalIntensity\",\"AverageIntensity\")]\n",
    "\n",
    "hourly_steps_1[c(\"date\", \"time\")] <- str_split_fixed(hourly_steps_1$ActivityHour, \" \" , 2) \n",
    "hourly_steps_1 <- filter(hourly_steps_1,!date== \"4/12/2016\")\n",
    "hourly_steps_1 <- hourly_steps_1[c(\"Id\",\"ActivityHour\",\"StepTotal\")]\n",
    "\n",
    "weight_1[c(\"date\", \"time\")] <- str_split_fixed(weight_1$Date, \" \" , 2) \n",
    "weight_1 <- filter(weight_1,!date== \"4/12/2016\")\n",
    "weight_1 <- weight_1[c(\"Id\",\"Date\",\"WeightKg\",\"WeightPounds\",\"Fat\",\"BMI\",\"IsManualReport\",\"LogId\")]\n",
    "\n",
    "seconds_heartrate_1[c(\"date\", \"time\")] <- str_split_fixed(seconds_heartrate_1$Time, \" \" , 2) \n",
    "seconds_heartrate_1 <- filter(seconds_heartrate_1,!date== \"4/12/2016\")\n",
    "seconds_heartrate_1 <- seconds_heartrate_1[c(\"Id\",\"Time\",\"Value\")]"
   ]
  },
  {
   "cell_type": "markdown",
   "id": "09e01a70",
   "metadata": {
    "papermill": {
     "duration": 0.011636,
     "end_time": "2024-10-16T16:15:51.398874",
     "exception": false,
     "start_time": "2024-10-16T16:15:51.387238",
     "status": "completed"
    },
    "tags": []
   },
   "source": [
    "Now we'll combine the data of both months into one dataframe"
   ]
  },
  {
   "cell_type": "code",
   "execution_count": 7,
   "id": "4a0cabf2",
   "metadata": {
    "execution": {
     "iopub.execute_input": "2024-10-16T16:15:51.425658Z",
     "iopub.status.busy": "2024-10-16T16:15:51.423756Z",
     "iopub.status.idle": "2024-10-16T16:15:52.396189Z",
     "shell.execute_reply": "2024-10-16T16:15:52.394245Z"
    },
    "papermill": {
     "duration": 0.988739,
     "end_time": "2024-10-16T16:15:52.398839",
     "exception": false,
     "start_time": "2024-10-16T16:15:51.410100",
     "status": "completed"
    },
    "tags": []
   },
   "outputs": [],
   "source": [
    "activity_daily <- rbind(daily_activity_1, daily_activity_2)\n",
    "calories_hourly <- rbind(hourly_calories_1, hourly_calories_2)\n",
    "intensities_hourly <- rbind(hourly_intensities_1,hourly_intensities_2)\n",
    "steps_hourly <- rbind(hourly_steps_1,hourly_steps_2)\n",
    "weight <- rbind(weight_1,weight_2)\n",
    "sleep_minutes <- rbind(minute_sleep_1,minute_sleep_2)\n",
    "heartrate_seconds <-rbind(seconds_heartrate_1,seconds_heartrate_2)"
   ]
  },
  {
   "cell_type": "markdown",
   "id": "ff308255",
   "metadata": {
    "papermill": {
     "duration": 0.01158,
     "end_time": "2024-10-16T16:15:52.421948",
     "exception": false,
     "start_time": "2024-10-16T16:15:52.410368",
     "status": "completed"
    },
    "tags": []
   },
   "source": [
    "Now we'll verify unique number of users to see sample size and remove datasets from analysis that have too small of a sample size"
   ]
  },
  {
   "cell_type": "code",
   "execution_count": 8,
   "id": "ed83ade3",
   "metadata": {
    "execution": {
     "iopub.execute_input": "2024-10-16T16:15:52.448705Z",
     "iopub.status.busy": "2024-10-16T16:15:52.447066Z",
     "iopub.status.idle": "2024-10-16T16:15:52.811122Z",
     "shell.execute_reply": "2024-10-16T16:15:52.809126Z"
    },
    "papermill": {
     "duration": 0.38022,
     "end_time": "2024-10-16T16:15:52.813679",
     "exception": false,
     "start_time": "2024-10-16T16:15:52.433459",
     "status": "completed"
    },
    "tags": []
   },
   "outputs": [
    {
     "data": {
      "text/html": [
       "35"
      ],
      "text/latex": [
       "35"
      ],
      "text/markdown": [
       "35"
      ],
      "text/plain": [
       "[1] 35"
      ]
     },
     "metadata": {},
     "output_type": "display_data"
    },
    {
     "data": {
      "text/html": [
       "35"
      ],
      "text/latex": [
       "35"
      ],
      "text/markdown": [
       "35"
      ],
      "text/plain": [
       "[1] 35"
      ]
     },
     "metadata": {},
     "output_type": "display_data"
    },
    {
     "data": {
      "text/html": [
       "35"
      ],
      "text/latex": [
       "35"
      ],
      "text/markdown": [
       "35"
      ],
      "text/plain": [
       "[1] 35"
      ]
     },
     "metadata": {},
     "output_type": "display_data"
    },
    {
     "data": {
      "text/html": [
       "35"
      ],
      "text/latex": [
       "35"
      ],
      "text/markdown": [
       "35"
      ],
      "text/plain": [
       "[1] 35"
      ]
     },
     "metadata": {},
     "output_type": "display_data"
    },
    {
     "data": {
      "text/html": [
       "13"
      ],
      "text/latex": [
       "13"
      ],
      "text/markdown": [
       "13"
      ],
      "text/plain": [
       "[1] 13"
      ]
     },
     "metadata": {},
     "output_type": "display_data"
    },
    {
     "data": {
      "text/html": [
       "25"
      ],
      "text/latex": [
       "25"
      ],
      "text/markdown": [
       "25"
      ],
      "text/plain": [
       "[1] 25"
      ]
     },
     "metadata": {},
     "output_type": "display_data"
    },
    {
     "data": {
      "text/html": [
       "15"
      ],
      "text/latex": [
       "15"
      ],
      "text/markdown": [
       "15"
      ],
      "text/plain": [
       "[1] 15"
      ]
     },
     "metadata": {},
     "output_type": "display_data"
    }
   ],
   "source": [
    "n_unique(activity_daily$Id) \n",
    "n_unique(calories_hourly$Id)\n",
    "n_unique(intensities_hourly$Id)\n",
    "n_unique(steps_hourly$Id)\n",
    "n_unique(weight$Id) \n",
    "n_unique(sleep_minutes$Id)\n",
    "n_unique(heartrate_seconds$Id)"
   ]
  },
  {
   "cell_type": "markdown",
   "id": "bbf5fb1d",
   "metadata": {
    "papermill": {
     "duration": 0.01243,
     "end_time": "2024-10-16T16:15:52.838705",
     "exception": false,
     "start_time": "2024-10-16T16:15:52.826275",
     "status": "completed"
    },
    "tags": []
   },
   "source": [
    "We'll remove weight,sleep, and heartrate from our analysis portion of our project due to the small sample size, and we'll bring up the lower use of these features in our recommendations. \n",
    "\n",
    "Now lets take a look at samples of the data of our main datasets."
   ]
  },
  {
   "cell_type": "code",
   "execution_count": 9,
   "id": "7a2fb9df",
   "metadata": {
    "execution": {
     "iopub.execute_input": "2024-10-16T16:15:52.868550Z",
     "iopub.status.busy": "2024-10-16T16:15:52.866746Z",
     "iopub.status.idle": "2024-10-16T16:15:52.951031Z",
     "shell.execute_reply": "2024-10-16T16:15:52.948531Z"
    },
    "papermill": {
     "duration": 0.102036,
     "end_time": "2024-10-16T16:15:52.953850",
     "exception": false,
     "start_time": "2024-10-16T16:15:52.851814",
     "status": "completed"
    },
    "tags": []
   },
   "outputs": [
    {
     "data": {
      "text/html": [
       "<table class=\"dataframe\">\n",
       "<caption>A data.frame: 6 × 15</caption>\n",
       "<thead>\n",
       "\t<tr><th></th><th scope=col>Id</th><th scope=col>ActivityDate</th><th scope=col>TotalSteps</th><th scope=col>TotalDistance</th><th scope=col>TrackerDistance</th><th scope=col>LoggedActivitiesDistance</th><th scope=col>VeryActiveDistance</th><th scope=col>ModeratelyActiveDistance</th><th scope=col>LightActiveDistance</th><th scope=col>SedentaryActiveDistance</th><th scope=col>VeryActiveMinutes</th><th scope=col>FairlyActiveMinutes</th><th scope=col>LightlyActiveMinutes</th><th scope=col>SedentaryMinutes</th><th scope=col>Calories</th></tr>\n",
       "\t<tr><th></th><th scope=col>&lt;dbl&gt;</th><th scope=col>&lt;chr&gt;</th><th scope=col>&lt;int&gt;</th><th scope=col>&lt;dbl&gt;</th><th scope=col>&lt;dbl&gt;</th><th scope=col>&lt;dbl&gt;</th><th scope=col>&lt;dbl&gt;</th><th scope=col>&lt;dbl&gt;</th><th scope=col>&lt;dbl&gt;</th><th scope=col>&lt;dbl&gt;</th><th scope=col>&lt;int&gt;</th><th scope=col>&lt;int&gt;</th><th scope=col>&lt;int&gt;</th><th scope=col>&lt;int&gt;</th><th scope=col>&lt;int&gt;</th></tr>\n",
       "</thead>\n",
       "<tbody>\n",
       "\t<tr><th scope=row>1</th><td>1503960366</td><td>3/25/2016</td><td>11004</td><td> 7.11</td><td> 7.11</td><td>0</td><td>2.57</td><td>0.46</td><td>4.07</td><td>0</td><td>33</td><td>12</td><td>205</td><td> 804</td><td>1819</td></tr>\n",
       "\t<tr><th scope=row>2</th><td>1503960366</td><td>3/26/2016</td><td>17609</td><td>11.55</td><td>11.55</td><td>0</td><td>6.92</td><td>0.73</td><td>3.91</td><td>0</td><td>89</td><td>17</td><td>274</td><td> 588</td><td>2154</td></tr>\n",
       "\t<tr><th scope=row>3</th><td>1503960366</td><td>3/27/2016</td><td>12736</td><td> 8.53</td><td> 8.53</td><td>0</td><td>4.66</td><td>0.16</td><td>3.71</td><td>0</td><td>56</td><td> 5</td><td>268</td><td> 605</td><td>1944</td></tr>\n",
       "\t<tr><th scope=row>4</th><td>1503960366</td><td>3/28/2016</td><td>13231</td><td> 8.93</td><td> 8.93</td><td>0</td><td>3.19</td><td>0.79</td><td>4.95</td><td>0</td><td>39</td><td>20</td><td>224</td><td>1080</td><td>1932</td></tr>\n",
       "\t<tr><th scope=row>5</th><td>1503960366</td><td>3/29/2016</td><td>12041</td><td> 7.85</td><td> 7.85</td><td>0</td><td>2.16</td><td>1.09</td><td>4.61</td><td>0</td><td>28</td><td>28</td><td>243</td><td> 763</td><td>1886</td></tr>\n",
       "\t<tr><th scope=row>6</th><td>1503960366</td><td>3/30/2016</td><td>10970</td><td> 7.16</td><td> 7.16</td><td>0</td><td>2.36</td><td>0.51</td><td>4.29</td><td>0</td><td>30</td><td>13</td><td>223</td><td>1174</td><td>1820</td></tr>\n",
       "</tbody>\n",
       "</table>\n"
      ],
      "text/latex": [
       "A data.frame: 6 × 15\n",
       "\\begin{tabular}{r|lllllllllllllll}\n",
       "  & Id & ActivityDate & TotalSteps & TotalDistance & TrackerDistance & LoggedActivitiesDistance & VeryActiveDistance & ModeratelyActiveDistance & LightActiveDistance & SedentaryActiveDistance & VeryActiveMinutes & FairlyActiveMinutes & LightlyActiveMinutes & SedentaryMinutes & Calories\\\\\n",
       "  & <dbl> & <chr> & <int> & <dbl> & <dbl> & <dbl> & <dbl> & <dbl> & <dbl> & <dbl> & <int> & <int> & <int> & <int> & <int>\\\\\n",
       "\\hline\n",
       "\t1 & 1503960366 & 3/25/2016 & 11004 &  7.11 &  7.11 & 0 & 2.57 & 0.46 & 4.07 & 0 & 33 & 12 & 205 &  804 & 1819\\\\\n",
       "\t2 & 1503960366 & 3/26/2016 & 17609 & 11.55 & 11.55 & 0 & 6.92 & 0.73 & 3.91 & 0 & 89 & 17 & 274 &  588 & 2154\\\\\n",
       "\t3 & 1503960366 & 3/27/2016 & 12736 &  8.53 &  8.53 & 0 & 4.66 & 0.16 & 3.71 & 0 & 56 &  5 & 268 &  605 & 1944\\\\\n",
       "\t4 & 1503960366 & 3/28/2016 & 13231 &  8.93 &  8.93 & 0 & 3.19 & 0.79 & 4.95 & 0 & 39 & 20 & 224 & 1080 & 1932\\\\\n",
       "\t5 & 1503960366 & 3/29/2016 & 12041 &  7.85 &  7.85 & 0 & 2.16 & 1.09 & 4.61 & 0 & 28 & 28 & 243 &  763 & 1886\\\\\n",
       "\t6 & 1503960366 & 3/30/2016 & 10970 &  7.16 &  7.16 & 0 & 2.36 & 0.51 & 4.29 & 0 & 30 & 13 & 223 & 1174 & 1820\\\\\n",
       "\\end{tabular}\n"
      ],
      "text/markdown": [
       "\n",
       "A data.frame: 6 × 15\n",
       "\n",
       "| <!--/--> | Id &lt;dbl&gt; | ActivityDate &lt;chr&gt; | TotalSteps &lt;int&gt; | TotalDistance &lt;dbl&gt; | TrackerDistance &lt;dbl&gt; | LoggedActivitiesDistance &lt;dbl&gt; | VeryActiveDistance &lt;dbl&gt; | ModeratelyActiveDistance &lt;dbl&gt; | LightActiveDistance &lt;dbl&gt; | SedentaryActiveDistance &lt;dbl&gt; | VeryActiveMinutes &lt;int&gt; | FairlyActiveMinutes &lt;int&gt; | LightlyActiveMinutes &lt;int&gt; | SedentaryMinutes &lt;int&gt; | Calories &lt;int&gt; |\n",
       "|---|---|---|---|---|---|---|---|---|---|---|---|---|---|---|---|\n",
       "| 1 | 1503960366 | 3/25/2016 | 11004 |  7.11 |  7.11 | 0 | 2.57 | 0.46 | 4.07 | 0 | 33 | 12 | 205 |  804 | 1819 |\n",
       "| 2 | 1503960366 | 3/26/2016 | 17609 | 11.55 | 11.55 | 0 | 6.92 | 0.73 | 3.91 | 0 | 89 | 17 | 274 |  588 | 2154 |\n",
       "| 3 | 1503960366 | 3/27/2016 | 12736 |  8.53 |  8.53 | 0 | 4.66 | 0.16 | 3.71 | 0 | 56 |  5 | 268 |  605 | 1944 |\n",
       "| 4 | 1503960366 | 3/28/2016 | 13231 |  8.93 |  8.93 | 0 | 3.19 | 0.79 | 4.95 | 0 | 39 | 20 | 224 | 1080 | 1932 |\n",
       "| 5 | 1503960366 | 3/29/2016 | 12041 |  7.85 |  7.85 | 0 | 2.16 | 1.09 | 4.61 | 0 | 28 | 28 | 243 |  763 | 1886 |\n",
       "| 6 | 1503960366 | 3/30/2016 | 10970 |  7.16 |  7.16 | 0 | 2.36 | 0.51 | 4.29 | 0 | 30 | 13 | 223 | 1174 | 1820 |\n",
       "\n"
      ],
      "text/plain": [
       "  Id         ActivityDate TotalSteps TotalDistance TrackerDistance\n",
       "1 1503960366 3/25/2016    11004       7.11          7.11          \n",
       "2 1503960366 3/26/2016    17609      11.55         11.55          \n",
       "3 1503960366 3/27/2016    12736       8.53          8.53          \n",
       "4 1503960366 3/28/2016    13231       8.93          8.93          \n",
       "5 1503960366 3/29/2016    12041       7.85          7.85          \n",
       "6 1503960366 3/30/2016    10970       7.16          7.16          \n",
       "  LoggedActivitiesDistance VeryActiveDistance ModeratelyActiveDistance\n",
       "1 0                        2.57               0.46                    \n",
       "2 0                        6.92               0.73                    \n",
       "3 0                        4.66               0.16                    \n",
       "4 0                        3.19               0.79                    \n",
       "5 0                        2.16               1.09                    \n",
       "6 0                        2.36               0.51                    \n",
       "  LightActiveDistance SedentaryActiveDistance VeryActiveMinutes\n",
       "1 4.07                0                       33               \n",
       "2 3.91                0                       89               \n",
       "3 3.71                0                       56               \n",
       "4 4.95                0                       39               \n",
       "5 4.61                0                       28               \n",
       "6 4.29                0                       30               \n",
       "  FairlyActiveMinutes LightlyActiveMinutes SedentaryMinutes Calories\n",
       "1 12                  205                   804             1819    \n",
       "2 17                  274                   588             2154    \n",
       "3  5                  268                   605             1944    \n",
       "4 20                  224                  1080             1932    \n",
       "5 28                  243                   763             1886    \n",
       "6 13                  223                  1174             1820    "
      ]
     },
     "metadata": {},
     "output_type": "display_data"
    },
    {
     "data": {
      "text/html": [
       "<table class=\"dataframe\">\n",
       "<caption>A data.frame: 6 × 3</caption>\n",
       "<thead>\n",
       "\t<tr><th></th><th scope=col>Id</th><th scope=col>ActivityHour</th><th scope=col>Calories</th></tr>\n",
       "\t<tr><th></th><th scope=col>&lt;dbl&gt;</th><th scope=col>&lt;chr&gt;</th><th scope=col>&lt;int&gt;</th></tr>\n",
       "</thead>\n",
       "<tbody>\n",
       "\t<tr><th scope=row>1</th><td>1503960366</td><td>3/12/2016 12:00:00 AM</td><td>48</td></tr>\n",
       "\t<tr><th scope=row>2</th><td>1503960366</td><td>3/12/2016 1:00:00 AM </td><td>48</td></tr>\n",
       "\t<tr><th scope=row>3</th><td>1503960366</td><td>3/12/2016 2:00:00 AM </td><td>48</td></tr>\n",
       "\t<tr><th scope=row>4</th><td>1503960366</td><td>3/12/2016 3:00:00 AM </td><td>48</td></tr>\n",
       "\t<tr><th scope=row>5</th><td>1503960366</td><td>3/12/2016 4:00:00 AM </td><td>48</td></tr>\n",
       "\t<tr><th scope=row>6</th><td>1503960366</td><td>3/12/2016 5:00:00 AM </td><td>48</td></tr>\n",
       "</tbody>\n",
       "</table>\n"
      ],
      "text/latex": [
       "A data.frame: 6 × 3\n",
       "\\begin{tabular}{r|lll}\n",
       "  & Id & ActivityHour & Calories\\\\\n",
       "  & <dbl> & <chr> & <int>\\\\\n",
       "\\hline\n",
       "\t1 & 1503960366 & 3/12/2016 12:00:00 AM & 48\\\\\n",
       "\t2 & 1503960366 & 3/12/2016 1:00:00 AM  & 48\\\\\n",
       "\t3 & 1503960366 & 3/12/2016 2:00:00 AM  & 48\\\\\n",
       "\t4 & 1503960366 & 3/12/2016 3:00:00 AM  & 48\\\\\n",
       "\t5 & 1503960366 & 3/12/2016 4:00:00 AM  & 48\\\\\n",
       "\t6 & 1503960366 & 3/12/2016 5:00:00 AM  & 48\\\\\n",
       "\\end{tabular}\n"
      ],
      "text/markdown": [
       "\n",
       "A data.frame: 6 × 3\n",
       "\n",
       "| <!--/--> | Id &lt;dbl&gt; | ActivityHour &lt;chr&gt; | Calories &lt;int&gt; |\n",
       "|---|---|---|---|\n",
       "| 1 | 1503960366 | 3/12/2016 12:00:00 AM | 48 |\n",
       "| 2 | 1503960366 | 3/12/2016 1:00:00 AM  | 48 |\n",
       "| 3 | 1503960366 | 3/12/2016 2:00:00 AM  | 48 |\n",
       "| 4 | 1503960366 | 3/12/2016 3:00:00 AM  | 48 |\n",
       "| 5 | 1503960366 | 3/12/2016 4:00:00 AM  | 48 |\n",
       "| 6 | 1503960366 | 3/12/2016 5:00:00 AM  | 48 |\n",
       "\n"
      ],
      "text/plain": [
       "  Id         ActivityHour          Calories\n",
       "1 1503960366 3/12/2016 12:00:00 AM 48      \n",
       "2 1503960366 3/12/2016 1:00:00 AM  48      \n",
       "3 1503960366 3/12/2016 2:00:00 AM  48      \n",
       "4 1503960366 3/12/2016 3:00:00 AM  48      \n",
       "5 1503960366 3/12/2016 4:00:00 AM  48      \n",
       "6 1503960366 3/12/2016 5:00:00 AM  48      "
      ]
     },
     "metadata": {},
     "output_type": "display_data"
    },
    {
     "data": {
      "text/html": [
       "<table class=\"dataframe\">\n",
       "<caption>A data.frame: 6 × 4</caption>\n",
       "<thead>\n",
       "\t<tr><th></th><th scope=col>Id</th><th scope=col>ActivityHour</th><th scope=col>TotalIntensity</th><th scope=col>AverageIntensity</th></tr>\n",
       "\t<tr><th></th><th scope=col>&lt;dbl&gt;</th><th scope=col>&lt;chr&gt;</th><th scope=col>&lt;int&gt;</th><th scope=col>&lt;dbl&gt;</th></tr>\n",
       "</thead>\n",
       "<tbody>\n",
       "\t<tr><th scope=row>1</th><td>1503960366</td><td>3/12/2016 12:00:00 AM</td><td>0</td><td>0</td></tr>\n",
       "\t<tr><th scope=row>2</th><td>1503960366</td><td>3/12/2016 1:00:00 AM </td><td>0</td><td>0</td></tr>\n",
       "\t<tr><th scope=row>3</th><td>1503960366</td><td>3/12/2016 2:00:00 AM </td><td>0</td><td>0</td></tr>\n",
       "\t<tr><th scope=row>4</th><td>1503960366</td><td>3/12/2016 3:00:00 AM </td><td>0</td><td>0</td></tr>\n",
       "\t<tr><th scope=row>5</th><td>1503960366</td><td>3/12/2016 4:00:00 AM </td><td>0</td><td>0</td></tr>\n",
       "\t<tr><th scope=row>6</th><td>1503960366</td><td>3/12/2016 5:00:00 AM </td><td>0</td><td>0</td></tr>\n",
       "</tbody>\n",
       "</table>\n"
      ],
      "text/latex": [
       "A data.frame: 6 × 4\n",
       "\\begin{tabular}{r|llll}\n",
       "  & Id & ActivityHour & TotalIntensity & AverageIntensity\\\\\n",
       "  & <dbl> & <chr> & <int> & <dbl>\\\\\n",
       "\\hline\n",
       "\t1 & 1503960366 & 3/12/2016 12:00:00 AM & 0 & 0\\\\\n",
       "\t2 & 1503960366 & 3/12/2016 1:00:00 AM  & 0 & 0\\\\\n",
       "\t3 & 1503960366 & 3/12/2016 2:00:00 AM  & 0 & 0\\\\\n",
       "\t4 & 1503960366 & 3/12/2016 3:00:00 AM  & 0 & 0\\\\\n",
       "\t5 & 1503960366 & 3/12/2016 4:00:00 AM  & 0 & 0\\\\\n",
       "\t6 & 1503960366 & 3/12/2016 5:00:00 AM  & 0 & 0\\\\\n",
       "\\end{tabular}\n"
      ],
      "text/markdown": [
       "\n",
       "A data.frame: 6 × 4\n",
       "\n",
       "| <!--/--> | Id &lt;dbl&gt; | ActivityHour &lt;chr&gt; | TotalIntensity &lt;int&gt; | AverageIntensity &lt;dbl&gt; |\n",
       "|---|---|---|---|---|\n",
       "| 1 | 1503960366 | 3/12/2016 12:00:00 AM | 0 | 0 |\n",
       "| 2 | 1503960366 | 3/12/2016 1:00:00 AM  | 0 | 0 |\n",
       "| 3 | 1503960366 | 3/12/2016 2:00:00 AM  | 0 | 0 |\n",
       "| 4 | 1503960366 | 3/12/2016 3:00:00 AM  | 0 | 0 |\n",
       "| 5 | 1503960366 | 3/12/2016 4:00:00 AM  | 0 | 0 |\n",
       "| 6 | 1503960366 | 3/12/2016 5:00:00 AM  | 0 | 0 |\n",
       "\n"
      ],
      "text/plain": [
       "  Id         ActivityHour          TotalIntensity AverageIntensity\n",
       "1 1503960366 3/12/2016 12:00:00 AM 0              0               \n",
       "2 1503960366 3/12/2016 1:00:00 AM  0              0               \n",
       "3 1503960366 3/12/2016 2:00:00 AM  0              0               \n",
       "4 1503960366 3/12/2016 3:00:00 AM  0              0               \n",
       "5 1503960366 3/12/2016 4:00:00 AM  0              0               \n",
       "6 1503960366 3/12/2016 5:00:00 AM  0              0               "
      ]
     },
     "metadata": {},
     "output_type": "display_data"
    },
    {
     "data": {
      "text/html": [
       "<table class=\"dataframe\">\n",
       "<caption>A data.frame: 6 × 3</caption>\n",
       "<thead>\n",
       "\t<tr><th></th><th scope=col>Id</th><th scope=col>ActivityHour</th><th scope=col>StepTotal</th></tr>\n",
       "\t<tr><th></th><th scope=col>&lt;dbl&gt;</th><th scope=col>&lt;chr&gt;</th><th scope=col>&lt;int&gt;</th></tr>\n",
       "</thead>\n",
       "<tbody>\n",
       "\t<tr><th scope=row>1</th><td>1503960366</td><td>3/12/2016 12:00:00 AM</td><td>0</td></tr>\n",
       "\t<tr><th scope=row>2</th><td>1503960366</td><td>3/12/2016 1:00:00 AM </td><td>0</td></tr>\n",
       "\t<tr><th scope=row>3</th><td>1503960366</td><td>3/12/2016 2:00:00 AM </td><td>0</td></tr>\n",
       "\t<tr><th scope=row>4</th><td>1503960366</td><td>3/12/2016 3:00:00 AM </td><td>0</td></tr>\n",
       "\t<tr><th scope=row>5</th><td>1503960366</td><td>3/12/2016 4:00:00 AM </td><td>0</td></tr>\n",
       "\t<tr><th scope=row>6</th><td>1503960366</td><td>3/12/2016 5:00:00 AM </td><td>0</td></tr>\n",
       "</tbody>\n",
       "</table>\n"
      ],
      "text/latex": [
       "A data.frame: 6 × 3\n",
       "\\begin{tabular}{r|lll}\n",
       "  & Id & ActivityHour & StepTotal\\\\\n",
       "  & <dbl> & <chr> & <int>\\\\\n",
       "\\hline\n",
       "\t1 & 1503960366 & 3/12/2016 12:00:00 AM & 0\\\\\n",
       "\t2 & 1503960366 & 3/12/2016 1:00:00 AM  & 0\\\\\n",
       "\t3 & 1503960366 & 3/12/2016 2:00:00 AM  & 0\\\\\n",
       "\t4 & 1503960366 & 3/12/2016 3:00:00 AM  & 0\\\\\n",
       "\t5 & 1503960366 & 3/12/2016 4:00:00 AM  & 0\\\\\n",
       "\t6 & 1503960366 & 3/12/2016 5:00:00 AM  & 0\\\\\n",
       "\\end{tabular}\n"
      ],
      "text/markdown": [
       "\n",
       "A data.frame: 6 × 3\n",
       "\n",
       "| <!--/--> | Id &lt;dbl&gt; | ActivityHour &lt;chr&gt; | StepTotal &lt;int&gt; |\n",
       "|---|---|---|---|\n",
       "| 1 | 1503960366 | 3/12/2016 12:00:00 AM | 0 |\n",
       "| 2 | 1503960366 | 3/12/2016 1:00:00 AM  | 0 |\n",
       "| 3 | 1503960366 | 3/12/2016 2:00:00 AM  | 0 |\n",
       "| 4 | 1503960366 | 3/12/2016 3:00:00 AM  | 0 |\n",
       "| 5 | 1503960366 | 3/12/2016 4:00:00 AM  | 0 |\n",
       "| 6 | 1503960366 | 3/12/2016 5:00:00 AM  | 0 |\n",
       "\n"
      ],
      "text/plain": [
       "  Id         ActivityHour          StepTotal\n",
       "1 1503960366 3/12/2016 12:00:00 AM 0        \n",
       "2 1503960366 3/12/2016 1:00:00 AM  0        \n",
       "3 1503960366 3/12/2016 2:00:00 AM  0        \n",
       "4 1503960366 3/12/2016 3:00:00 AM  0        \n",
       "5 1503960366 3/12/2016 4:00:00 AM  0        \n",
       "6 1503960366 3/12/2016 5:00:00 AM  0        "
      ]
     },
     "metadata": {},
     "output_type": "display_data"
    }
   ],
   "source": [
    "head(activity_daily)\n",
    "head(calories_hourly)\n",
    "head(intensities_hourly)\n",
    "head(steps_hourly)"
   ]
  },
  {
   "cell_type": "markdown",
   "id": "566c0bec",
   "metadata": {
    "papermill": {
     "duration": 0.013513,
     "end_time": "2024-10-16T16:15:52.981120",
     "exception": false,
     "start_time": "2024-10-16T16:15:52.967607",
     "status": "completed"
    },
    "tags": []
   },
   "source": [
    "### Cleaning\n",
    "\n",
    "We'll clean the data within each dataframe and get all of the columns under the same case rules."
   ]
  },
  {
   "cell_type": "code",
   "execution_count": 10,
   "id": "e24fe6e0",
   "metadata": {
    "execution": {
     "iopub.execute_input": "2024-10-16T16:15:53.013636Z",
     "iopub.status.busy": "2024-10-16T16:15:53.011710Z",
     "iopub.status.idle": "2024-10-16T16:15:53.136143Z",
     "shell.execute_reply": "2024-10-16T16:15:53.133870Z"
    },
    "papermill": {
     "duration": 0.144339,
     "end_time": "2024-10-16T16:15:53.139065",
     "exception": false,
     "start_time": "2024-10-16T16:15:52.994726",
     "status": "completed"
    },
    "tags": []
   },
   "outputs": [],
   "source": [
    "activity_daily <- clean_names(activity_daily)\n",
    "calories_hourly <- clean_names(calories_hourly)\n",
    "intensities_hourly <- clean_names(intensities_hourly)\n",
    "steps_hourly <- clean_names(steps_hourly)"
   ]
  },
  {
   "cell_type": "markdown",
   "id": "fad5ed02",
   "metadata": {
    "papermill": {
     "duration": 0.014565,
     "end_time": "2024-10-16T16:15:53.167749",
     "exception": false,
     "start_time": "2024-10-16T16:15:53.153184",
     "status": "completed"
    },
    "tags": []
   },
   "source": [
    "Now we'll get activity_daily into the correct date format"
   ]
  },
  {
   "cell_type": "code",
   "execution_count": 11,
   "id": "b9d32bf7",
   "metadata": {
    "execution": {
     "iopub.execute_input": "2024-10-16T16:15:53.199922Z",
     "iopub.status.busy": "2024-10-16T16:15:53.198151Z",
     "iopub.status.idle": "2024-10-16T16:15:53.215427Z",
     "shell.execute_reply": "2024-10-16T16:15:53.213511Z"
    },
    "papermill": {
     "duration": 0.036491,
     "end_time": "2024-10-16T16:15:53.218339",
     "exception": false,
     "start_time": "2024-10-16T16:15:53.181848",
     "status": "completed"
    },
    "tags": []
   },
   "outputs": [],
   "source": [
    "activity_daily <- activity_daily %>% \n",
    "  mutate(activity_date = as_date(activity_date, format = \"%m/%d/%Y\"))"
   ]
  },
  {
   "cell_type": "markdown",
   "id": "a2214723",
   "metadata": {
    "papermill": {
     "duration": 0.013973,
     "end_time": "2024-10-16T16:15:53.246808",
     "exception": false,
     "start_time": "2024-10-16T16:15:53.232835",
     "status": "completed"
    },
    "tags": []
   },
   "source": [
    "And arrange it by ID and date."
   ]
  },
  {
   "cell_type": "code",
   "execution_count": 12,
   "id": "ee3762f3",
   "metadata": {
    "execution": {
     "iopub.execute_input": "2024-10-16T16:15:53.278584Z",
     "iopub.status.busy": "2024-10-16T16:15:53.276817Z",
     "iopub.status.idle": "2024-10-16T16:15:53.292121Z",
     "shell.execute_reply": "2024-10-16T16:15:53.290171Z"
    },
    "papermill": {
     "duration": 0.034207,
     "end_time": "2024-10-16T16:15:53.294953",
     "exception": false,
     "start_time": "2024-10-16T16:15:53.260746",
     "status": "completed"
    },
    "tags": []
   },
   "outputs": [],
   "source": [
    "activity_daily <- activity_daily %>% \n",
    "  arrange(id, activity_date)"
   ]
  },
  {
   "cell_type": "markdown",
   "id": "2469c4ee",
   "metadata": {
    "papermill": {
     "duration": 0.014007,
     "end_time": "2024-10-16T16:15:53.324228",
     "exception": false,
     "start_time": "2024-10-16T16:15:53.310221",
     "status": "completed"
    },
    "tags": []
   },
   "source": [
    "We are going to merge the hourly datasets and then ensure the date/time are \n",
    "actually in a date/time format."
   ]
  },
  {
   "cell_type": "code",
   "execution_count": 13,
   "id": "0602648e",
   "metadata": {
    "execution": {
     "iopub.execute_input": "2024-10-16T16:15:53.355941Z",
     "iopub.status.busy": "2024-10-16T16:15:53.354215Z",
     "iopub.status.idle": "2024-10-16T16:15:54.164011Z",
     "shell.execute_reply": "2024-10-16T16:15:54.161710Z"
    },
    "papermill": {
     "duration": 0.828612,
     "end_time": "2024-10-16T16:15:54.166789",
     "exception": false,
     "start_time": "2024-10-16T16:15:53.338177",
     "status": "completed"
    },
    "tags": []
   },
   "outputs": [],
   "source": [
    "all_data_hourly <- merge(calories_hourly,intensities_hourly, by=c(\"id\", \"activity_hour\"))\n",
    "all_data_hourly <- merge(all_data_hourly,steps_hourly, by=c(\"id\", \"activity_hour\"))"
   ]
  },
  {
   "cell_type": "code",
   "execution_count": 14,
   "id": "aa090beb",
   "metadata": {
    "execution": {
     "iopub.execute_input": "2024-10-16T16:15:54.198364Z",
     "iopub.status.busy": "2024-10-16T16:15:54.196484Z",
     "iopub.status.idle": "2024-10-16T16:15:54.483275Z",
     "shell.execute_reply": "2024-10-16T16:15:54.481137Z"
    },
    "papermill": {
     "duration": 0.305882,
     "end_time": "2024-10-16T16:15:54.486307",
     "exception": false,
     "start_time": "2024-10-16T16:15:54.180425",
     "status": "completed"
    },
    "tags": []
   },
   "outputs": [],
   "source": [
    "all_data_hourly[c(\"date\", \"time\")] <- str_split_fixed(all_data_hourly$activity_hour, \" \" , 2) \n",
    "all_data_hourly$activity_hour=as.POSIXct(all_data_hourly$activity_hour, format=\"%m/%d/%Y %I:%M:%S %p\", tz=Sys.timezone())\n",
    "all_data_hourly$time <- format(all_data_hourly$activity_hour, format = \"%H:%M:%S\")"
   ]
  },
  {
   "cell_type": "markdown",
   "id": "5d7b79c8",
   "metadata": {
    "papermill": {
     "duration": 0.039552,
     "end_time": "2024-10-16T16:15:54.540490",
     "exception": false,
     "start_time": "2024-10-16T16:15:54.500938",
     "status": "completed"
    },
    "tags": []
   },
   "source": [
    "And then arrange by ID and date_time."
   ]
  },
  {
   "cell_type": "code",
   "execution_count": 15,
   "id": "280f5773",
   "metadata": {
    "execution": {
     "iopub.execute_input": "2024-10-16T16:15:54.573060Z",
     "iopub.status.busy": "2024-10-16T16:15:54.571083Z",
     "iopub.status.idle": "2024-10-16T16:15:54.600046Z",
     "shell.execute_reply": "2024-10-16T16:15:54.597822Z"
    },
    "papermill": {
     "duration": 0.048185,
     "end_time": "2024-10-16T16:15:54.602709",
     "exception": false,
     "start_time": "2024-10-16T16:15:54.554524",
     "status": "completed"
    },
    "tags": []
   },
   "outputs": [],
   "source": [
    "all_data_hourly <- all_data_hourly %>% \n",
    "  arrange(id,activity_hour)"
   ]
  },
  {
   "cell_type": "markdown",
   "id": "79ef0f19",
   "metadata": {
    "papermill": {
     "duration": 0.013698,
     "end_time": "2024-10-16T16:15:54.630024",
     "exception": false,
     "start_time": "2024-10-16T16:15:54.616326",
     "status": "completed"
    },
    "tags": []
   },
   "source": [
    "# Phase 4 & 5: Analyze & Share\n",
    "\n",
    "We're going to see how many days each user used their device and summarize them into high use, moderate use, and low use categories."
   ]
  },
  {
   "cell_type": "code",
   "execution_count": 16,
   "id": "bb75458b",
   "metadata": {
    "execution": {
     "iopub.execute_input": "2024-10-16T16:15:54.661738Z",
     "iopub.status.busy": "2024-10-16T16:15:54.659931Z",
     "iopub.status.idle": "2024-10-16T16:15:54.694531Z",
     "shell.execute_reply": "2024-10-16T16:15:54.692472Z"
    },
    "papermill": {
     "duration": 0.053544,
     "end_time": "2024-10-16T16:15:54.697245",
     "exception": false,
     "start_time": "2024-10-16T16:15:54.643701",
     "status": "completed"
    },
    "tags": []
   },
   "outputs": [],
   "source": [
    "use_daily <- activity_daily %>%\n",
    "  dplyr::group_by(id) %>%\n",
    "  dplyr::summarise(days_used=sum(n())) %>%\n",
    "  mutate(usage = case_when(\n",
    "    days_used >= 1 & days_used <= 20 ~ \"low use\",\n",
    "    days_used >= 21 & days_used <= 40 ~ \"moderate use\", \n",
    "    days_used >= 41 & days_used <= 62 ~ \"high use\", \n",
    "  ))"
   ]
  },
  {
   "cell_type": "markdown",
   "id": "1b7328e7",
   "metadata": {
    "papermill": {
     "duration": 0.013693,
     "end_time": "2024-10-16T16:15:54.724724",
     "exception": false,
     "start_time": "2024-10-16T16:15:54.711031",
     "status": "completed"
    },
    "tags": []
   },
   "source": [
    "Now let's see what percentages of people fall into which category."
   ]
  },
  {
   "cell_type": "code",
   "execution_count": 17,
   "id": "7cb19414",
   "metadata": {
    "execution": {
     "iopub.execute_input": "2024-10-16T16:15:54.756537Z",
     "iopub.status.busy": "2024-10-16T16:15:54.754743Z",
     "iopub.status.idle": "2024-10-16T16:15:54.793772Z",
     "shell.execute_reply": "2024-10-16T16:15:54.791477Z"
    },
    "papermill": {
     "duration": 0.05797,
     "end_time": "2024-10-16T16:15:54.796471",
     "exception": false,
     "start_time": "2024-10-16T16:15:54.738501",
     "status": "completed"
    },
    "tags": []
   },
   "outputs": [],
   "source": [
    "use_daily_percent <- use_daily %>%\n",
    "  dplyr::group_by(usage) %>%\n",
    "  dplyr::summarise(total = n()) %>%\n",
    "  dplyr::mutate(totals = sum(total)) %>%\n",
    "  dplyr::group_by(usage) %>%\n",
    "  dplyr::summarise(total_percent = total / totals) %>%\n",
    "  dplyr::mutate(percentage = scales::percent(total_percent))\n",
    "\n",
    "\n",
    "use_daily_percent <- dplyr::arrange(use_daily_percent,desc(total_percent))"
   ]
  },
  {
   "cell_type": "markdown",
   "id": "709a16b9",
   "metadata": {
    "papermill": {
     "duration": 0.01359,
     "end_time": "2024-10-16T16:15:54.823750",
     "exception": false,
     "start_time": "2024-10-16T16:15:54.810160",
     "status": "completed"
    },
    "tags": []
   },
   "source": [
    "And create a pie chart of those percentages"
   ]
  },
  {
   "cell_type": "code",
   "execution_count": 18,
   "id": "ae972d49",
   "metadata": {
    "execution": {
     "iopub.execute_input": "2024-10-16T16:15:54.855965Z",
     "iopub.status.busy": "2024-10-16T16:15:54.854073Z",
     "iopub.status.idle": "2024-10-16T16:15:55.626091Z",
     "shell.execute_reply": "2024-10-16T16:15:55.624221Z"
    },
    "papermill": {
     "duration": 0.79182,
     "end_time": "2024-10-16T16:15:55.629179",
     "exception": false,
     "start_time": "2024-10-16T16:15:54.837359",
     "status": "completed"
    },
    "tags": []
   },
   "outputs": [
    {
     "data": {
      "image/png": "[encoded data removed]"
     },
     "metadata": {
      "image/png": {
       "height": 420,
       "width": 420
      }
     },
     "output_type": "display_data"
    }
   ],
   "source": [
    "use_daily_percent %>%\n",
    "  ggplot(aes(x=\"\",y=total_percent, fill=usage)) +\n",
    "  geom_bar(stat = \"identity\", width = 1)+\n",
    "  coord_polar(\"y\", start=0)+\n",
    "  theme_minimal()+\n",
    "  theme(axis.title.x= element_blank(),\n",
    "        axis.title.y = element_blank(),\n",
    "        panel.border = element_blank(), \n",
    "        panel.grid = element_blank(), \n",
    "        axis.ticks = element_blank(),\n",
    "        axis.text.x = element_blank(),\n",
    "        plot.title = element_text(hjust = 0.5, size=14, face = \"bold\")) +\n",
    "  geom_text(aes(label = percentage),\n",
    "            position = position_stack(vjust = 0.5))+\n",
    "  scale_fill_manual(values = c(\"deepskyblue3\",\"deepskyblue\",\"darkslategray1\"),\n",
    "                    labels = c(\"High use - 41 to 62 days\",\n",
    "                               \"Low use - 1 to 20 days\",\n",
    "                               \"Moderate use - 21 to 40 days\"))+\n",
    "  labs(title=\"Daily use of smart devices\")"
   ]
  },
  {
   "cell_type": "markdown",
   "id": "faa45f05",
   "metadata": {
    "papermill": {
     "duration": 0.015232,
     "end_time": "2024-10-16T16:15:55.659735",
     "exception": false,
     "start_time": "2024-10-16T16:15:55.644503",
     "status": "completed"
    },
    "tags": []
   },
   "source": [
    "Now that we now how often people are using the product, let's see what type of\n",
    "users are using the product based off activity level. "
   ]
  },
  {
   "cell_type": "code",
   "execution_count": 19,
   "id": "d9f84f0a",
   "metadata": {
    "execution": {
     "iopub.execute_input": "2024-10-16T16:15:55.693839Z",
     "iopub.status.busy": "2024-10-16T16:15:55.692248Z",
     "iopub.status.idle": "2024-10-16T16:15:55.736875Z",
     "shell.execute_reply": "2024-10-16T16:15:55.735074Z"
    },
    "papermill": {
     "duration": 0.064769,
     "end_time": "2024-10-16T16:15:55.739534",
     "exception": false,
     "start_time": "2024-10-16T16:15:55.674765",
     "status": "completed"
    },
    "tags": []
   },
   "outputs": [],
   "source": [
    "average_steps <-  ddply(activity_daily, .(id), summarize, avg_steps=mean(total_steps)) %>%\n",
    "  mutate(activity_level = case_when(\n",
    "    avg_steps >=0 & avg_steps < 2500 ~ \"6_basal\",\n",
    "    avg_steps >= 2500 & avg_steps < 5000 ~ \"5_limited\", \n",
    "    avg_steps >= 5000 & avg_steps < 7500 ~ \"4_low\",\n",
    "    avg_steps >= 7500 & avg_steps < 10000 ~ \"3_somewhat\",\n",
    "    avg_steps >= 10000 & avg_steps < 12500 ~ \"2_active\",\n",
    "    avg_steps >= 12500 ~ \"1_highly_active\",\n",
    "  ))\n",
    "\n",
    "daily_averages <-merge(use_daily,average_steps,\"id\")\n",
    "\n",
    "avg_steps_percent <- daily_averages %>%\n",
    "  dplyr::group_by(activity_level) %>%\n",
    "  dplyr::summarise(total = n()) %>%\n",
    "  dplyr::mutate(totals = sum(total)) %>%\n",
    "  dplyr::group_by(activity_level) %>%\n",
    "  dplyr::summarise(total_percent = total / totals) %>%\n",
    "  dplyr::mutate(percentage = scales::percent(total_percent))"
   ]
  },
  {
   "cell_type": "markdown",
   "id": "17f00ea3",
   "metadata": {
    "papermill": {
     "duration": 0.014965,
     "end_time": "2024-10-16T16:15:55.769529",
     "exception": false,
     "start_time": "2024-10-16T16:15:55.754564",
     "status": "completed"
    },
    "tags": []
   },
   "source": [
    "And create a pie chart of those percentages."
   ]
  },
  {
   "cell_type": "code",
   "execution_count": 20,
   "id": "5219772c",
   "metadata": {
    "execution": {
     "iopub.execute_input": "2024-10-16T16:15:55.804121Z",
     "iopub.status.busy": "2024-10-16T16:15:55.802418Z",
     "iopub.status.idle": "2024-10-16T16:15:56.450562Z",
     "shell.execute_reply": "2024-10-16T16:15:56.448654Z"
    },
    "papermill": {
     "duration": 0.669165,
     "end_time": "2024-10-16T16:15:56.453772",
     "exception": false,
     "start_time": "2024-10-16T16:15:55.784607",
     "status": "completed"
    },
    "tags": []
   },
   "outputs": [
    {
     "data": {
      "image/png": "[encoded data removed]"
     },
     "metadata": {
      "image/png": {
       "height": 420,
       "width": 420
      }
     },
     "output_type": "display_data"
    }
   ],
   "source": [
    "avg_steps_percent %>%\n",
    "  ggplot(aes(x=\"\",y=total_percent, fill=activity_level)) +\n",
    "  geom_bar(stat = \"identity\", width = 1)+\n",
    "  coord_polar(\"y\", start=0)+\n",
    "  theme_minimal()+\n",
    "  theme(axis.title.x= element_blank(),\n",
    "        axis.title.y = element_blank(),\n",
    "        panel.border = element_blank(), \n",
    "        panel.grid = element_blank(), \n",
    "        axis.ticks = element_blank(),\n",
    "        axis.text.x = element_blank(),\n",
    "        plot.title = element_text(hjust = 0.5, size=14, face = \"bold\")) +\n",
    "  geom_text(aes(label = percentage),\n",
    "            position = position_stack(vjust = 0.5))+  \n",
    "  \n",
    "  labs(title=\"Activity Levels of Users\")"
   ]
  },
  {
   "cell_type": "markdown",
   "id": "5ef3c73a",
   "metadata": {
    "papermill": {
     "duration": 0.016631,
     "end_time": "2024-10-16T16:15:56.487543",
     "exception": false,
     "start_time": "2024-10-16T16:15:56.470912",
     "status": "completed"
    },
    "tags": []
   },
   "source": [
    "Now we'll compare categories of users to activity level."
   ]
  },
  {
   "cell_type": "code",
   "execution_count": 21,
   "id": "2497ac5e",
   "metadata": {
    "execution": {
     "iopub.execute_input": "2024-10-16T16:15:56.525151Z",
     "iopub.status.busy": "2024-10-16T16:15:56.523497Z",
     "iopub.status.idle": "2024-10-16T16:15:58.841158Z",
     "shell.execute_reply": "2024-10-16T16:15:58.839130Z"
    },
    "papermill": {
     "duration": 2.338973,
     "end_time": "2024-10-16T16:15:58.843734",
     "exception": false,
     "start_time": "2024-10-16T16:15:56.504761",
     "status": "completed"
    },
    "tags": []
   },
   "outputs": [
    {
     "name": "stderr",
     "output_type": "stream",
     "text": [
      "\u001b[1m\u001b[22m`geom_smooth()` using method = 'loess' and formula = 'y ~ x'\n"
     ]
    },
    {
     "data": {
      "image/png": "[encoded data removed]"
     },
     "metadata": {
      "image/png": {
       "height": 420,
       "width": 420
      }
     },
     "output_type": "display_data"
    }
   ],
   "source": [
    "daily_averages %>% \n",
    "  ggplot(aes(avg_steps,days_used)) + geom_point() +geom_smooth()+\n",
    "  labs(title=\"Types of Users and their Activity\")"
   ]
  },
  {
   "cell_type": "markdown",
   "id": "0e7ef9fe",
   "metadata": {
    "papermill": {
     "duration": 0.018491,
     "end_time": "2024-10-16T16:15:58.880483",
     "exception": false,
     "start_time": "2024-10-16T16:15:58.861992",
     "status": "completed"
    },
    "tags": []
   },
   "source": [
    "Based off our pie charts and scatter plot we can see that most users fall within low to moderate activity level over this two month period. \n",
    "\n",
    "Now we'll look at how active our users are throughout the day. "
   ]
  },
  {
   "cell_type": "code",
   "execution_count": 22,
   "id": "dfdcf41b",
   "metadata": {
    "execution": {
     "iopub.execute_input": "2024-10-16T16:15:58.920373Z",
     "iopub.status.busy": "2024-10-16T16:15:58.918521Z",
     "iopub.status.idle": "2024-10-16T16:15:59.268867Z",
     "shell.execute_reply": "2024-10-16T16:15:59.266773Z"
    },
    "papermill": {
     "duration": 0.373512,
     "end_time": "2024-10-16T16:15:59.271730",
     "exception": false,
     "start_time": "2024-10-16T16:15:58.898218",
     "status": "completed"
    },
    "tags": []
   },
   "outputs": [
    {
     "name": "stderr",
     "output_type": "stream",
     "text": [
      "Warning message in geom_histogram(stat = \"identity\", fill = \"darkblue\"):\n",
      "“\u001b[1m\u001b[22mIgnoring unknown parameters: `binwidth`, `bins`, and `pad`”\n"
     ]
    },
    {
     "data": {
      "image/png": "[encoded data removed]"
     },
     "metadata": {
      "image/png": {
       "height": 420,
       "width": 420
      }
     },
     "output_type": "display_data"
    }
   ],
   "source": [
    "int_new <- all_data_hourly %>%\n",
    "  dplyr::group_by(time) %>%\n",
    "  tidyr::drop_na() %>%\n",
    "  dplyr::summarise(mean_total_int = mean(total_intensity))\n",
    "\n",
    "ggplot(data=int_new, aes(x=time, y=mean_total_int)) + geom_histogram(stat = \"identity\", fill='darkblue') +\n",
    "  theme(axis.text.x = element_text(angle = 90)) +\n",
    "  labs(title=\"Average Total Intensity vs. Time\")"
   ]
  },
  {
   "cell_type": "markdown",
   "id": "0bdd51aa",
   "metadata": {
    "papermill": {
     "duration": 0.018824,
     "end_time": "2024-10-16T16:15:59.310299",
     "exception": false,
     "start_time": "2024-10-16T16:15:59.291475",
     "status": "completed"
    },
    "tags": []
   },
   "source": [
    "We can see that most people are active during lunchtime and just after when most people would get out of a \"9-5\" job. \n",
    "\n",
    "Lastly we'll take a lok at how the umber of users changed over time during this two month period. "
   ]
  },
  {
   "cell_type": "code",
   "execution_count": 23,
   "id": "7120028c",
   "metadata": {
    "execution": {
     "iopub.execute_input": "2024-10-16T16:15:59.353485Z",
     "iopub.status.busy": "2024-10-16T16:15:59.351567Z",
     "iopub.status.idle": "2024-10-16T16:15:59.703082Z",
     "shell.execute_reply": "2024-10-16T16:15:59.700899Z"
    },
    "papermill": {
     "duration": 0.375435,
     "end_time": "2024-10-16T16:15:59.705875",
     "exception": false,
     "start_time": "2024-10-16T16:15:59.330440",
     "status": "completed"
    },
    "tags": []
   },
   "outputs": [
    {
     "name": "stderr",
     "output_type": "stream",
     "text": [
      "Warning message in geom_histogram(stat = \"identity\", fill = \"darkblue\"):\n",
      "“\u001b[1m\u001b[22mIgnoring unknown parameters: `binwidth`, `bins`, and `pad`”\n"
     ]
    },
    {
     "data": {
      "image/png": "[encoded data removed]"
     },
     "metadata": {
      "image/png": {
       "height": 420,
       "width": 420
      }
     },
     "output_type": "display_data"
    }
   ],
   "source": [
    "activity_by_day <- activity_daily %>% \n",
    "  dplyr::group_by(activity_date) %>%\n",
    "  dplyr::summarise(total = n())\n",
    " \n",
    "ggplot(data=activity_by_day, aes(x=activity_date,y=total))+ geom_histogram(stat=\"identity\", fill=\"darkblue\") +\n",
    "  labs(title=\"Daily Users over Time\")"
   ]
  },
  {
   "cell_type": "markdown",
   "id": "3f83b304",
   "metadata": {
    "papermill": {
     "duration": 0.020047,
     "end_time": "2024-10-16T16:15:59.745766",
     "exception": false,
     "start_time": "2024-10-16T16:15:59.725719",
     "status": "completed"
    },
    "tags": []
   },
   "source": [
    "\n",
    "We see a sharp uptick near the beginning of the study, but during the last few weeks we see the start of a significant dropoff of users. \n",
    "\n",
    "# Phase 6: Act\n",
    "\n",
    "Based off the available data I'd make the following recommendations to Bellabeat's marketing team:\n",
    "\n",
    "1. Due to the low use of features such as weight, sleep readings, and heartrate, Bellabeat could introduce a scale that automatically updates weight from a scale to the app, much like the water bottle they are currently marketing. They coud also look into why a lot of people do not use the sleep functionality of the smart devices.\n",
    "\n",
    "2. Based off the data that most users are in the lower to middle groups of activity levels. Bellabeat could tailor their ads to people who are lightly active and speak to the benefits of being able to track your activity and immprove upon it such as step/calorie/intensity goals.\n",
    "\n",
    "3. Finally they would want to look into getting additional data about why people stop using smart devices for health tracking after about 1-2 months. Once they get additional data they could tailor marketing and subscription reminders based off when people would be most likely to re-new the subscription or not. They would also want to market the longevity and benefits of using Bellabeats for a long period. \n"
   ]
  }
 ],
 "metadata": {
  "kaggle": {
   "accelerator": "none",
   "dataSources": [
    {
     "datasetId": 1041311,
     "sourceId": 7746251,
     "sourceType": "datasetVersion"
    },
    {
     "datasetId": 5716913,
     "sourceId": 9413740,
     "sourceType": "datasetVersion"
    }
   ],
   "dockerImageVersionId": 30749,
   "isGpuEnabled": false,
   "isInternetEnabled": true,
   "language": "r",
   "sourceType": "notebook"
  },
  "kernelspec": {
   "display_name": "R",
   "language": "R",
   "name": "ir"
  },
  "language_info": {
   "codemirror_mode": "r",
   "file_extension": ".r",
   "mimetype": "text/x-r-source",
   "name": "R",
   "pygments_lexer": "r",
   "version": "4.4.0"
  },
  "papermill": {
   "default_parameters": {},
   "duration": 29.308878,
   "end_time": "2024-10-16T16:15:59.890190",
   "environment_variables": {},
   "exception": null,
   "input_path": "__notebook__.ipynb",
   "output_path": "__notebook__.ipynb",
   "parameters": {},
   "start_time": "2024-10-16T16:15:30.581312",
   "version": "2.6.0"
  }
 },
 "nbformat": 4,
 "nbformat_minor": 5
}
